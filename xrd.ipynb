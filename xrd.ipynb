{
 "cells": [
  {
   "cell_type": "code",
   "execution_count": 5,
   "id": "adult-cleveland",
   "metadata": {},
   "outputs": [],
   "source": [
    "#Importation des modules nécessaires\n",
    "\n",
    "from pymatgen.ext.matproj import MPRester\n",
    "from pymatgen.analysis.diffraction import xrd"
   ]
  },
  {
   "cell_type": "code",
   "execution_count": 6,
   "id": "engaged-circus",
   "metadata": {},
   "outputs": [
    {
     "data": {
      "application/vnd.jupyter.widget-view+json": {
       "model_id": "2b37d3f3ae51449cb9b75882f4d50b68",
       "version_major": 2,
       "version_minor": 0
      },
      "text/plain": [
       "Retrieving MaterialsDoc documents:   0%|          | 0/1 [00:00<?, ?it/s]"
      ]
     },
     "metadata": {},
     "output_type": "display_data"
    },
    {
     "name": "stdout",
     "output_type": "stream",
     "text": [
      "Le fichier CIF du Li2CuSb a bien été trouvé\n"
     ]
    }
   ],
   "source": [
    "#Téléchargement du fichier CIF correspondant au Li2CuSb\n",
    "\n",
    "with MPRester(\"36eyCyWre0p7eCRDZiEH2u5AWop4BHPb\") as mp:\n",
    "    Li2CuSb = mp.get_structure_by_material_id(\"mp-15988\")\n",
    "    print(\"Le fichier CIF du Li2CuSb a bien été trouvé\")"
   ]
  },
  {
   "cell_type": "code",
   "execution_count": 7,
   "id": "graduate-doctor",
   "metadata": {},
   "outputs": [],
   "source": [
    "#Initialisation du calculateur XRDCalculator\n",
    "#Le rayonnement X incident utilisé par défaut par le calculateur est le rayonnement X du type Cu K_alpha\n",
    "#La longueur d'onde utilisée par le calculateur est donnée en paramètre comme \"wavelength = 1.54060\"\n",
    "\n",
    "calculator = xrd.XRDCalculator(wavelength = 1.54060)"
   ]
  },
  {
   "cell_type": "code",
   "execution_count": 8,
   "id": "removable-strategy",
   "metadata": {},
   "outputs": [
    {
     "name": "stdout",
     "output_type": "stream",
     "text": [
      "Premier pic : Intensité du pic = 100.0 ; Indices hkl associés à ce pic = (1, 0, 0)\n",
      "Second pic : Intensité du pic = 7.770721441507402 ; Indices hkl associés à ce pic = (1, 1, 0)\n",
      "Troisème pic : Intensité du pic = 90.09028099536742 ; Indices hkl associés à ce pic = (2, 1, 1)\n"
     ]
    }
   ],
   "source": [
    "#Impression des résultats obtenus pour les 3 premiers pics du diffractogramme correspondant\n",
    "\n",
    "print(\"Premier pic : Intensité du pic =\",calculator.get_pattern(Li2CuSb).y[0],\"; Indices hkl associés à ce pic =\", calculator.get_pattern(Li2CuSb,True).hkls[0][0]['hkl'])\n",
    "print(\"Second pic : Intensité du pic =\",calculator.get_pattern(Li2CuSb).y[1],\"; Indices hkl associés à ce pic =\", calculator.get_pattern(Li2CuSb,True).hkls[1][0]['hkl'])\n",
    "print(\"Troisème pic : Intensité du pic =\",calculator.get_pattern(Li2CuSb).y[2],\"; Indices hkl associés à ce pic =\", calculator.get_pattern(Li2CuSb,True).hkls[2][0]['hkl'])"
   ]
  },
  {
   "attachments": {},
   "cell_type": "markdown",
   "id": "small-theme",
   "metadata": {},
   "source": [
    "Commentaires\n",
    "1. Les intensités sont mises à l'échelle (scaled = True dans la fonction get_pattern), ce qui signifie que le pic maximum est mis à 100 et les intensités des autres pics sont exprimées de manière relatives à celle du premier pic.\n",
    "2. On remarque que l'intensité du second pic est inférieure à celle du premier pic (ce qui est et semble logique) mais cette intensité du second pic est également inférieure à l'intensité du troisème pic trouvé, ce qui semble contre-intuitif. En effet, cela est dû aux différentes extinctions systématiques qui dépendent de la configuration du cristal."
   ]
  }
 ],
 "metadata": {
  "kernelspec": {
   "display_name": "Python 3",
   "language": "python",
   "name": "python3"
  },
  "language_info": {
   "codemirror_mode": {
    "name": "ipython",
    "version": 3
   },
   "file_extension": ".py",
   "mimetype": "text/x-python",
   "name": "python",
   "nbconvert_exporter": "python",
   "pygments_lexer": "ipython3",
   "version": "3.10.10"
  }
 },
 "nbformat": 4,
 "nbformat_minor": 5
}
