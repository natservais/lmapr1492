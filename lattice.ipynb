{
 "cells": [
  {
   "cell_type": "code",
   "execution_count": 45,
   "id": "lonely-corruption",
   "metadata": {},
   "outputs": [
    {
     "name": "stderr",
     "output_type": "stream",
     "text": [
      "Retrieving MaterialsDoc documents: 100%|██████████| 1/1 [00:00<?, ?it/s]"
     ]
    },
    {
     "name": "stdout",
     "output_type": "stream",
     "text": [
      "Le fichier CIF du Li2CuSb a bien été téléchargé !\n"
     ]
    },
    {
     "name": "stderr",
     "output_type": "stream",
     "text": [
      "\n"
     ]
    }
   ],
   "source": [
    "from pymatgen.ext.matproj import MPRester\n",
    "from pymatgen.symmetry.analyzer import SpacegroupAnalyzer\n",
    "\n",
    "with MPRester(\"36eyCyWre0p7eCRDZiEH2u5AWop4BHPb\") as mp:\n",
    "\n",
    "    Li2CuSb = mp.get_structure_by_material_id(\"mp-15988\")\n",
    "    print(\"Le fichier CIF du Li2CuSb a bien été téléchargé !\")"
   ]
  },
  {
   "cell_type": "code",
   "execution_count": 46,
   "id": "complete-classification",
   "metadata": {},
   "outputs": [
    {
     "name": "stdout",
     "output_type": "stream",
     "text": [
      "Vecteurs de base du réseau direct (en 3 dimensions):\n",
      "3.852981 0.000000 2.224520\n",
      "1.284328 3.632626 2.224520\n",
      "0.000000 -0.000000 4.449040\n"
     ]
    }
   ],
   "source": [
    "print(\"Vecteurs de base du réseau direct (en 3 dimensions):\")\n",
    "print(Li2CuSb.lattice)"
   ]
  },
  {
   "cell_type": "code",
   "execution_count": 47,
   "id": "otherwise-appreciation",
   "metadata": {},
   "outputs": [
    {
     "name": "stdout",
     "output_type": "stream",
     "text": [
      "Vecteurs de base du réseau réciproque (en 3 dimensions):\n",
      "1.630733 -0.576551 0.000000\n",
      "-0.000000 1.729654 0.000000\n",
      "-0.815367 -0.576551 1.412256\n"
     ]
    }
   ],
   "source": [
    "print(\"Vecteurs de base du réseau réciproque (en 3 dimensions):\")\n",
    "print(Li2CuSb.lattice.reciprocal_lattice)"
   ]
  },
  {
   "cell_type": "code",
   "execution_count": 48,
   "id": "geographic-holmes",
   "metadata": {},
   "outputs": [
    {
     "name": "stdout",
     "output_type": "stream",
     "text": [
      "Type de maille du Li2CuSb: cubic\n"
     ]
    }
   ],
   "source": [
    "print(\"Type de maille du Li2CuSb:\",SpacegroupAnalyzer(Li2CuSb).get_lattice_type())"
   ]
  },
  {
   "cell_type": "code",
   "execution_count": 49,
   "id": "c51b0fde",
   "metadata": {},
   "outputs": [
    {
     "name": "stdout",
     "output_type": "stream",
     "text": [
      "Système cristallin du Li2CuSb : cubic\n"
     ]
    }
   ],
   "source": [
    "print(\"Système cristallin du Li2CuSb :\",SpacegroupAnalyzer(Li2CuSb).get_crystal_system())"
   ]
  },
  {
   "cell_type": "code",
   "execution_count": 50,
   "id": "6a0ddb4a",
   "metadata": {},
   "outputs": [
    {
     "name": "stdout",
     "output_type": "stream",
     "text": [
      "Groupe ponctuel du Li2CuSb : -43m\n"
     ]
    }
   ],
   "source": [
    "print(\"Groupe ponctuel du Li2CuSb :\",SpacegroupAnalyzer(Li2CuSb).get_point_group_symbol())"
   ]
  }
 ],
 "metadata": {
  "kernelspec": {
   "display_name": "Python 3",
   "language": "python",
   "name": "python3"
  },
  "language_info": {
   "codemirror_mode": {
    "name": "ipython",
    "version": 3
   },
   "file_extension": ".py",
   "mimetype": "text/x-python",
   "name": "python",
   "nbconvert_exporter": "python",
   "pygments_lexer": "ipython3",
   "version": "3.10.10"
  },
  "vscode": {
   "interpreter": {
    "hash": "6ca9a67a24c6ca2223b49791daeae19d1cc24a1555471ab8b451d6c382938fa0"
   }
  }
 },
 "nbformat": 4,
 "nbformat_minor": 5
}
