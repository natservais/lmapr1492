{
 "cells": [
  {
   "cell_type": "code",
   "execution_count": 1,
   "id": "f6874eab",
   "metadata": {},
   "outputs": [],
   "source": [
    "from pymatgen.ext.matproj import MPRester"
   ]
  },
  {
   "cell_type": "code",
   "execution_count": 3,
   "id": "immune-poetry",
   "metadata": {},
   "outputs": [
    {
     "data": {
      "application/vnd.jupyter.widget-view+json": {
       "model_id": "8e16a20b0fe84d21ba46c967caff69ab",
       "version_major": 2,
       "version_minor": 0
      },
      "text/plain": [
       "Retrieving PhononBSDOSDoc documents:   0%|          | 0/1 [00:00<?, ?it/s]"
      ]
     },
     "metadata": {},
     "output_type": "display_data"
    },
    {
     "name": "stdout",
     "output_type": "stream",
     "text": [
      "La structure de bande de phonons du Li2CuSb a bien été téléchargé\n"
     ]
    }
   ],
   "source": [
    "with MPRester(\"36eyCyWre0p7eCRDZiEH2u5AWop4BHPb\") as m:\n",
    "    structure = m.get_phonon_bandstructure_by_material_id(\"mp-15988\")\n",
    "    print(\"La structure de bande de phonons du Li2CuSb a bien été téléchargé\")"
   ]
  }
 ],
 "metadata": {
  "kernelspec": {
   "display_name": "Python 3",
   "language": "python",
   "name": "python3"
  },
  "language_info": {
   "codemirror_mode": {
    "name": "ipython",
    "version": 3
   },
   "file_extension": ".py",
   "mimetype": "text/x-python",
   "name": "python",
   "nbconvert_exporter": "python",
   "pygments_lexer": "ipython3",
   "version": "3.10.10"
  },
  "vscode": {
   "interpreter": {
    "hash": "6ca9a67a24c6ca2223b49791daeae19d1cc24a1555471ab8b451d6c382938fa0"
   }
  }
 },
 "nbformat": 4,
 "nbformat_minor": 5
}
