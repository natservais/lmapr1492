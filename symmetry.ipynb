{
 "cells": [
  {
   "cell_type": "code",
   "execution_count": 46,
   "id": "typical-plenty",
   "metadata": {},
   "outputs": [],
   "source": [
    "from pymatgen.ext.matproj import MPRester\n",
    "from pymatgen.core import Structure\n",
    "from jupyter_jsmol.pymatgen import quick_view"
   ]
  },
  {
   "cell_type": "code",
   "execution_count": 47,
   "id": "informational-german",
   "metadata": {},
   "outputs": [
    {
     "data": {
      "application/vnd.jupyter.widget-view+json": {
       "model_id": "3a66d4a49536428fb39531a5dfe2a211",
       "version_major": 2,
       "version_minor": 0
      },
      "text/plain": [
       "Retrieving MaterialsDoc documents:   0%|          | 0/1 [00:00<?, ?it/s]"
      ]
     },
     "metadata": {},
     "output_type": "display_data"
    },
    {
     "name": "stdout",
     "output_type": "stream",
     "text": [
      "Le fichier CIF du Li2CuSb a bien été téléchargé !\n"
     ]
    }
   ],
   "source": [
    "with MPRester(\"36eyCyWre0p7eCRDZiEH2u5AWop4BHPb\") as mp:\n",
    "\n",
    "    Li2CuSb = mp.get_structure_by_material_id(\"mp-15988\")\n",
    "    print(\"Le fichier CIF du Li2CuSb a bien été téléchargé !\")"
   ]
  },
  {
   "cell_type": "code",
   "execution_count": 48,
   "id": "ecological-sigma",
   "metadata": {},
   "outputs": [
    {
     "data": {
      "application/vnd.jupyter.widget-view+json": {
       "model_id": "634c1850e8674a24a03182197d7db1f4",
       "version_major": 2,
       "version_minor": 0
      },
      "text/plain": [
       "JsmolView(layout=Layout(align_self='stretch', height='400px'))"
      ]
     },
     "metadata": {},
     "output_type": "display_data"
    }
   ],
   "source": [
    "view = quick_view(Li2CuSb)\n",
    "display(view)"
   ]
  },
  {
   "attachments": {},
   "cell_type": "markdown",
   "id": "ade3808b",
   "metadata": {},
   "source": [
    "Première opération de symétrie :"
   ]
  },
  {
   "cell_type": "code",
   "execution_count": 49,
   "id": "acquired-nurse",
   "metadata": {},
   "outputs": [],
   "source": [
    "view.script('draw symop 5 {atomno=1}')"
   ]
  },
  {
   "attachments": {},
   "cell_type": "markdown",
   "id": "studied-fireplace",
   "metadata": {},
   "source": [
    "Commentaire:\n",
    "\n",
    "La première symétrie que je souhaite analyser est la suivante : x, y, z -> x, -y, -z .\n",
    "\n",
    "Cette symètrie est listée dans le fichier CIF correspondant au Li2CuSb comme étant la numéro 5.\n",
    "\n",
    "Analysons son effet sur l'atome 1, qui est le premier atome de Li+. On voit que cette symètrie a pour effet d'envoyer l'atome 1 de ses coordonnées de bases (0.00000,0.00000,0.50000) vers de nouvelles coordonnées qui sont les suivantes (0.00000,0.00000,-0.50000). Tout cela est exprimé par rapport aux coordonnées relatives de l'atome considéré.\n",
    "\n",
    "Le point est maintenant en dehors de la maille.\n",
    "\n",
    "Cette symétrie est une inversion de centre (0,0,0) pour ce premier atome de Li+.\n"
   ]
  },
  {
   "attachments": {},
   "cell_type": "markdown",
   "id": "7eb4774d",
   "metadata": {},
   "source": [
    "Deuxième opération de symétrie :"
   ]
  },
  {
   "cell_type": "code",
   "execution_count": 50,
   "id": "narrow-complaint",
   "metadata": {},
   "outputs": [],
   "source": [
    "view.script('draw symop 22 {atomno=4}')"
   ]
  },
  {
   "attachments": {},
   "cell_type": "markdown",
   "id": "impossible-progressive",
   "metadata": {},
   "source": [
    "Commentaire:\n",
    "\n",
    "La deuxième symétrie que je souhaite analyser est la suivante : x, y, z -> x, z, y .\n",
    "\n",
    "Cette symétrie est listée dans le fichier CIF correspondant au Li2CuSb comme étant la numéro 22.\n",
    "\n",
    "Analysons son effet sur l'atome 4, qui est l'atome de Sb3-. On voit que cette symètrie a pour effet d'envoyer l'atome 4 de ses coordonnées de bases (0.25000,0.25000,0.75000) vers de nouvelles coordonnées qui sont les suivantes (0.25000,0.75000,0.25000). Tout cela est exprimé par rapport aux coordonnées relatives de l'atome considéré.\n",
    "\n",
    "Cette symétrie est en fait une ...\n",
    "\n"
   ]
  },
  {
   "attachments": {},
   "cell_type": "markdown",
   "id": "d25739bc",
   "metadata": {},
   "source": [
    "Troisième opération de symétrie:"
   ]
  },
  {
   "cell_type": "code",
   "execution_count": 51,
   "id": "excellent-drove",
   "metadata": {},
   "outputs": [],
   "source": [
    "view.script('draw symop 25 {atomno=3}')"
   ]
  },
  {
   "attachments": {},
   "cell_type": "markdown",
   "id": "cordless-morris",
   "metadata": {},
   "source": [
    "Commentaire:\n",
    "\n",
    "La troisième symétrie que je souhaite analyser est la suivante : x, y, z -> x+1/2, y+1/2, z .\n",
    "\n",
    "Cette symétrie est listée dans le fichier CIF correspondant au Li2CuSb comme étant la numéro 25.\n",
    "\n",
    "Analysons son effet sur l'atome 3, qui est l'atome de Cu+. On voit que cette symétrie a pour effet d'envoyer l'atome 3 de ses coordonnées de bases (0.00000,0.00000,0.00000) vers de nouvelles coordonnées qui sont les suivantes (0.50000,0.50000,0.00000). Tout cela est exprimé par rapport aux coordonnées relatives de l'atome considéré.\n",
    "\n",
    "Cette symétrie est en fait une ..."
   ]
  },
  {
   "cell_type": "code",
   "execution_count": 52,
   "id": "8adff1e0",
   "metadata": {},
   "outputs": [],
   "source": [
    "view.close()"
   ]
  }
 ],
 "metadata": {
  "kernelspec": {
   "display_name": "Python 3",
   "language": "python",
   "name": "python3"
  },
  "language_info": {
   "codemirror_mode": {
    "name": "ipython",
    "version": 3
   },
   "file_extension": ".py",
   "mimetype": "text/x-python",
   "name": "python",
   "nbconvert_exporter": "python",
   "pygments_lexer": "ipython3",
   "version": "3.10.10"
  }
 },
 "nbformat": 4,
 "nbformat_minor": 5
}
